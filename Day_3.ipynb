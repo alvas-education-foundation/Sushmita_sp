{
  "nbformat": 4,
  "nbformat_minor": 0,
  "metadata": {
    "colab": {
      "name": "Day 3.ipynb",
      "provenance": [],
      "include_colab_link": true
    },
    "kernelspec": {
      "name": "python3",
      "display_name": "Python 3"
    }
  },
  "cells": [
    {
      "cell_type": "markdown",
      "metadata": {
        "id": "view-in-github",
        "colab_type": "text"
      },
      "source": [
        "<a href=\"https://colab.research.google.com/github/alvas-education-foundation/Sushmita_sp/blob/master/Day_3.ipynb\" target=\"_parent\"><img src=\"https://colab.research.google.com/assets/colab-badge.svg\" alt=\"Open In Colab\"/></a>"
      ]
    },
    {
      "cell_type": "markdown",
      "metadata": {
        "id": "tN2Z4uTjnC99",
        "colab_type": "text"
      },
      "source": [
        "Write a Python program to find numbers between 100 and 400 (both included) which are divisable both by 5 or 7. The numbers obtained should be printed in a comma-separated sequence\n"
      ]
    },
    {
      "cell_type": "code",
      "metadata": {
        "id": "IQCeBSWHm8Xv",
        "colab_type": "code",
        "colab": {
          "base_uri": "https://localhost:8080/",
          "height": 54
        },
        "outputId": "3cf23825-bc52-4173-ccb8-696f479c7880"
      },
      "source": [
        "N = [print(x,end = ',') for x in range(100,401) if x%5 is 0 or x%7 is 0]"
      ],
      "execution_count": null,
      "outputs": [
        {
          "output_type": "stream",
          "text": [
            "100,105,110,112,115,119,120,125,126,130,133,135,140,145,147,150,154,155,160,161,165,168,170,175,180,182,185,189,190,195,196,200,203,205,210,215,217,220,224,225,230,231,235,238,240,245,250,252,255,259,260,265,266,270,273,275,280,285,287,290,294,295,300,301,305,308,310,315,320,322,325,329,330,335,336,340,343,345,350,355,357,360,364,365,370,371,375,378,380,385,390,392,395,399,400,"
          ],
          "name": "stdout"
        }
      ]
    },
    {
      "cell_type": "markdown",
      "metadata": {
        "id": "pn4GfmjfnXQl",
        "colab_type": "text"
      },
      "source": [
        "Write a Python program to find prime numbers between 200 and 600 (both included). The numbers obtained should be printed in a comma-separated sequence"
      ]
    },
    {
      "cell_type": "code",
      "metadata": {
        "id": "qw4GQMm-nOQL",
        "colab_type": "code",
        "colab": {
          "base_uri": "https://localhost:8080/",
          "height": 54
        },
        "outputId": "94e2d485-04e0-4240-f84c-57c62a1c9b90"
      },
      "source": [
        "for x in range(200,601):\n",
        "  for y in range(2,x//2+1):\n",
        "    if x%y == 0:\n",
        "      break\n",
        "  else:\n",
        "    print(x,end=',')"
      ],
      "execution_count": null,
      "outputs": [
        {
          "output_type": "stream",
          "text": [
            "211,223,227,229,233,239,241,251,257,263,269,271,277,281,283,293,307,311,313,317,331,337,347,349,353,359,367,373,379,383,389,397,401,409,419,421,431,433,439,443,449,457,461,463,467,479,487,491,499,503,509,521,523,541,547,557,563,569,571,577,587,593,599,"
          ],
          "name": "stdout"
        }
      ]
    },
    {
      "cell_type": "markdown",
      "metadata": {
        "id": "DsxfuQVAnsCh",
        "colab_type": "text"
      },
      "source": [
        "Write a Python program to find All Numbers which are Odd and Palindromes Between a Range of Numbers without using Recursion. The numbers obtained should be printed in a comma-separated sequence"
      ]
    },
    {
      "cell_type": "code",
      "metadata": {
        "id": "lbIcJQLhnmxP",
        "colab_type": "code",
        "colab": {
          "base_uri": "https://localhost:8080/",
          "height": 68
        },
        "outputId": "65a735d8-9870-47fb-b38e-fcbc3cbec3d8"
      },
      "source": [
        "N = [print(x,end=',') for x in range(int(input('Enter Lower range: ')),int(input('Enter Upper range: '))) if x%2 and str(x) == str(x)[::-1]]"
      ],
      "execution_count": null,
      "outputs": [
        {
          "output_type": "stream",
          "text": [
            "Enter Lower range: 5\n",
            "Enter Upper range: 25\n",
            "5,7,9,11,"
          ],
          "name": "stdout"
        }
      ]
    },
    {
      "cell_type": "markdown",
      "metadata": {
        "id": "UUqdYjZqn7FY",
        "colab_type": "text"
      },
      "source": [
        "Write a Python Program to read a number n and print the series “5+10+…..+n = sum upto n ” . The numbers should be printed as they are shown in the quotes with sum of numbers upto n"
      ]
    },
    {
      "cell_type": "code",
      "metadata": {
        "id": "5NU8hyZSnwp5",
        "colab_type": "code",
        "colab": {
          "base_uri": "https://localhost:8080/",
          "height": 51
        },
        "outputId": "97553aa5-f8aa-4f88-a0bf-5056e99c2eaf"
      },
      "source": [
        "arr = [x for x in range(5,int(input('Enter the number : '))+1,5)]\n",
        "print('+'.join([str(i) for i in arr]),'=',sum(arr))"
      ],
      "execution_count": null,
      "outputs": [
        {
          "output_type": "stream",
          "text": [
            "Enter the number : 11\n",
            "5+10 = 15\n"
          ],
          "name": "stdout"
        }
      ]
    },
    {
      "cell_type": "markdown",
      "metadata": {
        "id": "4VvuptfLoSW8",
        "colab_type": "text"
      },
      "source": [
        "**Session 2**"
      ]
    },
    {
      "cell_type": "markdown",
      "metadata": {
        "id": "D_eZ7FpkobrX",
        "colab_type": "text"
      },
      "source": [
        "Write a Python Program to Print Multiplication Table of a number which got through keyboard"
      ]
    },
    {
      "cell_type": "code",
      "metadata": {
        "id": "vFdU3KENn-5w",
        "colab_type": "code",
        "colab": {
          "base_uri": "https://localhost:8080/",
          "height": 204
        },
        "outputId": "2a342224-aa32-4f6d-c3f1-507bd1c75d64"
      },
      "source": [
        "n = int(input('Enter the number : '))\n",
        "arr = [print(n,'x',x,'=',n*x) for x in range(1,11)]"
      ],
      "execution_count": null,
      "outputs": [
        {
          "output_type": "stream",
          "text": [
            "Enter the number : 34\n",
            "34 x 1 = 34\n",
            "34 x 2 = 68\n",
            "34 x 3 = 102\n",
            "34 x 4 = 136\n",
            "34 x 5 = 170\n",
            "34 x 6 = 204\n",
            "34 x 7 = 238\n",
            "34 x 8 = 272\n",
            "34 x 9 = 306\n",
            "34 x 10 = 340\n"
          ],
          "name": "stdout"
        }
      ]
    },
    {
      "cell_type": "markdown",
      "metadata": {
        "id": "aPMQEm4Iougp",
        "colab_type": "text"
      },
      "source": [
        "\n",
        "Write a Python Program to find the Armstrong Numbers between 1 and 2000 ( i.e 153 is amtrong numbers as 13+53+3**3=153 )"
      ]
    },
    {
      "cell_type": "code",
      "metadata": {
        "id": "A8_80DcBopNx",
        "colab_type": "code",
        "colab": {
          "base_uri": "https://localhost:8080/",
          "height": 34
        },
        "outputId": "5cfa25fb-9a32-4301-cdf9-f2cac9c2c236"
      },
      "source": [
        "for x in range(1,2000):\n",
        "  i = str(x)\n",
        "  l = len(i)\n",
        "  ex = []\n",
        "  for y in range(l):\n",
        "    ex.append(i[y]+'**'+str(l))\n",
        "  if eval('+'.join(ex)) == x:\n",
        "    print(x,end = ' ')"
      ],
      "execution_count": null,
      "outputs": [
        {
          "output_type": "stream",
          "text": [
            "1 2 3 4 5 6 7 8 9 153 370 371 407 1634 "
          ],
          "name": "stdout"
        }
      ]
    },
    {
      "cell_type": "markdown",
      "metadata": {
        "id": "bkaUNLPro3Oi",
        "colab_type": "text"
      },
      "source": [
        "\n",
        "Write a python program to get the list of tuples (rollno, name) for n students by getting rollno and name through keyboard. Sort and print them as rollno wise and name wise both ascending and descending as well as alphabetical and dealphabetical orders"
      ]
    },
    {
      "cell_type": "code",
      "metadata": {
        "id": "-jsuA13LozXy",
        "colab_type": "code",
        "colab": {
          "base_uri": "https://localhost:8080/",
          "height": 170
        },
        "outputId": "9a3a0b61-e79c-46f7-e804-de112f8ee3f4"
      },
      "source": [
        "import operator\n",
        "arr = [(int(input('Enter rollno %d: '%(x))),input('Enter name %d: '%(x))) for x in range(1,int(input('Enter no of students: '))+1)]\n",
        "print('Student details based on rollno in ascending order',sorted(arr))\n",
        "print('Student details based on rollno in descending order',sorted(arr,reverse = True))\n",
        "print('Student details based on name in ascending order',sorted(arr,key = operator.itemgetter(1)))\n",
        "print('Student details based on name in descending order',sorted(arr,key = operator.itemgetter(1),reverse = True))"
      ],
      "execution_count": null,
      "outputs": [
        {
          "output_type": "stream",
          "text": [
            "Enter no of students: 2\n",
            "Enter rollno 1: 12\n",
            "Enter name 1: raks\n",
            "Enter rollno 2: 13\n",
            "Enter name 2: sushant\n",
            "Student details based on rollno in ascending order [(12, 'raks'), (13, 'sushant')]\n",
            "Student details based on rollno in descending order [(13, 'sushant'), (12, 'raks')]\n",
            "Student details based on name in ascending order [(12, 'raks'), (13, 'sushant')]\n",
            "Student details based on name in descending order [(13, 'sushant'), (12, 'raks')]\n"
          ],
          "name": "stdout"
        }
      ]
    },
    {
      "cell_type": "markdown",
      "metadata": {
        "id": "txZp8GETpI5-",
        "colab_type": "text"
      },
      "source": [
        "Python Program to Detect if Two Strings are Anagrams ( They are the two strings which have same length and same words which may be different in their order)"
      ]
    },
    {
      "cell_type": "code",
      "metadata": {
        "id": "1jOZQ0_Io63D",
        "colab_type": "code",
        "colab": {
          "base_uri": "https://localhost:8080/",
          "height": 68
        },
        "outputId": "14581f9b-38fe-478e-ce9a-f68daa6e7b19"
      },
      "source": [
        "s1 = input('Enter the 1st string: ')\n",
        "s2 = input('Enter the 2nd string: ')\n",
        "if len(s1) == len(s2) and sorted(set(s1)) == sorted(set(s2)):\n",
        "  print('Strings are Anagrams')\n",
        "else:\n",
        "  print('Strings are not Anagrams')"
      ],
      "execution_count": null,
      "outputs": [
        {
          "output_type": "stream",
          "text": [
            "Enter the 1st string: rererere\n",
            "Enter the 2nd string: uytutuitu\n",
            "Strings are not Anagrams\n"
          ],
          "name": "stdout"
        }
      ]
    },
    {
      "cell_type": "code",
      "metadata": {
        "id": "iJoQobuHpUb7",
        "colab_type": "code",
        "colab": {}
      },
      "source": [
        ""
      ],
      "execution_count": null,
      "outputs": []
    }
  ]
}
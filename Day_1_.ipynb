{
  "nbformat": 4,
  "nbformat_minor": 0,
  "metadata": {
    "colab": {
      "name": "  Day 1 .ipynb",
      "provenance": [],
      "include_colab_link": true
    },
    "kernelspec": {
      "name": "python3",
      "display_name": "Python 3"
    }
  },
  "cells": [
    {
      "cell_type": "markdown",
      "metadata": {
        "id": "view-in-github",
        "colab_type": "text"
      },
      "source": [
        "<a href=\"https://colab.research.google.com/github/alvas-education-foundation/Sushmita_sp/blob/master/Day_1_.ipynb\" target=\"_parent\"><img src=\"https://colab.research.google.com/assets/colab-badge.svg\" alt=\"Open In Colab\"/></a>"
      ]
    },
    {
      "cell_type": "markdown",
      "metadata": {
        "id": "i5TbJw_LYhvW",
        "colab_type": "text"
      },
      "source": [
        "Session 1"
      ]
    },
    {
      "cell_type": "code",
      "metadata": {
        "id": "1hnA6d0J62KN",
        "colab_type": "code",
        "colab": {
          "base_uri": "https://localhost:8080/",
          "height": 170
        },
        "outputId": "758bd198-b596-4c48-d7f1-267385208a14"
      },
      "source": [
        "print (\"your options are:\")\n",
        "print(\"1 for ODDorEven\")\n",
        "print(\"2 for Factorial\")\n",
        "print (\"3 for ODDNoUptoN\")\n",
        "print (\"4 for PrimeUptoN\")\n",
        "print(\" \")\n",
        "\n",
        "choice=int(input(\"enter your choice : \"))\n",
        "if choice==1:                                             # 1 for even or odd\n",
        "  num = int(input(\"Enter a number: \"))\n",
        "  if (num % 2) == 0:\n",
        "    print(\"{0} is Even\".format(num))\n",
        "  else:\n",
        "    print(\"{0} is Odd\".format(num))\n",
        "elif choice==2:                                           #factorial\n",
        "  num = int(input(\"enter the number : \"))\n",
        "  factorial = 1\n",
        "  if num>0:\n",
        "    for i in range(1,num + 1):\n",
        "      factorial = factorial*i\n",
        "      print(\"The factorial of\",num,\"is\",factorial)\n",
        "elif choice==3:                                           #odd numbers upto N\n",
        "  maximum = int(input(\" Please Enter any Maximum Value : \"))\n",
        "  for number in range(1, maximum + 1):\n",
        "    if(number % 2 != 0):\n",
        "        print(\"{0}\".format(number))\n",
        "elif choice==4:  \n",
        "  N=int(input(\"enter the number : \"))                     #prime number upto N\n",
        "  for Number in range (1, N+1):\n",
        "    count = 0\n",
        "    for i in range(2, (Number//2 + 1)):\n",
        "        if(Number % i == 0):\n",
        "            count = count + 1\n",
        "            break\n",
        "\n",
        "    if (count == 0 and Number != 1):\n",
        "        print(\" %d\" %Number, end = '  ')\n",
        "else:\n",
        "  print(\"no such options\")"
      ],
      "execution_count": null,
      "outputs": [
        {
          "output_type": "stream",
          "text": [
            "your options are:\n",
            "1 for ODDorEven\n",
            "2 for Factorial\n",
            "3 for ODDNoUptoN\n",
            "4 for PrimeUptoN\n",
            " \n",
            "enter your choice : 4\n",
            "enter the number : 23\n",
            " 2   3   5   7   11   13   17   19   23  "
          ],
          "name": "stdout"
        }
      ]
    },
    {
      "cell_type": "markdown",
      "metadata": {
        "id": "Yq6ckVgnYgXh",
        "colab_type": "text"
      },
      "source": [
        "session 2\n"
      ]
    },
    {
      "cell_type": "code",
      "metadata": {
        "id": "lYAaAoRa6-wv",
        "colab_type": "code",
        "colab": {
          "base_uri": "https://localhost:8080/",
          "height": 85
        },
        "outputId": "e06faf2d-ef16-41de-feed-2ff8c894bed7"
      },
      "source": [
        "#1 Write a program to print the triangle  i/p  4\n",
        "N=4\n",
        "num=1\n",
        "for i in range(N):\n",
        "    for j in range(i):\n",
        "        print('{0} ' .format(num), end=\"  \")\n",
        "        num=num+1\n",
        "    print('   ')"
      ],
      "execution_count": null,
      "outputs": [
        {
          "output_type": "stream",
          "text": [
            "   \n",
            "1      \n",
            "2   3      \n",
            "4   5   6      \n"
          ],
          "name": "stdout"
        }
      ]
    },
    {
      "cell_type": "code",
      "metadata": {
        "id": "CUXvcJ2XYxv-",
        "colab_type": "code",
        "colab": {
          "base_uri": "https://localhost:8080/",
          "height": 85
        },
        "outputId": "65377372-b051-439d-d8ae-d0c3eb54fd2e"
      },
      "source": [
        "#2 Enter number 4\n",
        "N=4;\n",
        "for i in range(N):\n",
        "    for j in range(i+1):\n",
        "        print ('* ', end=\"\")\n",
        "    print('')"
      ],
      "execution_count": null,
      "outputs": [
        {
          "output_type": "stream",
          "text": [
            "* \n",
            "* * \n",
            "* * * \n",
            "* * * * \n"
          ],
          "name": "stdout"
        }
      ]
    },
    {
      "cell_type": "code",
      "metadata": {
        "id": "9drMW5_NY-aM",
        "colab_type": "code",
        "colab": {
          "base_uri": "https://localhost:8080/",
          "height": 85
        },
        "outputId": "c4814335-3e2d-4c92-c458-c48e0f0e00d3"
      },
      "source": [
        "#3 Enter number 5\n",
        "N=4;\n",
        "for i in range(N,0,-1):\n",
        "    for j in range(i):\n",
        "        print('{0} '.format(i-j), end=\"\")\n",
        "    print('')\n"
      ],
      "execution_count": null,
      "outputs": [
        {
          "output_type": "stream",
          "text": [
            "4 3 2 1 \n",
            "3 2 1 \n",
            "2 1 \n",
            "1 \n"
          ],
          "name": "stdout"
        }
      ]
    },
    {
      "cell_type": "code",
      "metadata": {
        "id": "1cFg_RreZD7d",
        "colab_type": "code",
        "colab": {
          "base_uri": "https://localhost:8080/",
          "height": 102
        },
        "outputId": "f0860917-87fe-416d-f388-a566e97def16"
      },
      "source": [
        "#4 Enter number 5\n",
        "N=5;\n",
        "for i in range(N,0,-1):\n",
        "    for j in range(i):\n",
        "        print('{0} '.format(i-j), end=\"\")\n",
        "    print('')"
      ],
      "execution_count": null,
      "outputs": [
        {
          "output_type": "stream",
          "text": [
            "5 4 3 2 1 \n",
            "4 3 2 1 \n",
            "3 2 1 \n",
            "2 1 \n",
            "1 \n"
          ],
          "name": "stdout"
        }
      ]
    },
    {
      "cell_type": "code",
      "metadata": {
        "id": "C9yAxkqcZI8m",
        "colab_type": "code",
        "colab": {
          "base_uri": "https://localhost:8080/",
          "height": 34
        },
        "outputId": "d878a7b9-385e-44cf-b09e-2868d6b3d2b6"
      },
      "source": [
        "#7  Find the no of words and characters in a string\n",
        "def char_frequency(str1):\n",
        "    dict = {}\n",
        "    for n in str1:\n",
        "        keys = dict.keys()\n",
        "        if n in keys:\n",
        "            dict[n] += 1\n",
        "        else:\n",
        "            dict[n] = 1\n",
        "    return dict\n",
        "print(char_frequency('rakshith'))"
      ],
      "execution_count": null,
      "outputs": [
        {
          "output_type": "stream",
          "text": [
            "{'r': 1, 'a': 1, 'k': 1, 's': 1, 'h': 2, 'i': 1, 't': 1}\n"
          ],
          "name": "stdout"
        }
      ]
    },
    {
      "cell_type": "code",
      "metadata": {
        "id": "D86iGNPGZO1z",
        "colab_type": "code",
        "colab": {
          "base_uri": "https://localhost:8080/",
          "height": 51
        },
        "outputId": "fc7118d6-97d9-4335-c3b2-0ee242442892"
      },
      "source": [
        "#6  Find the length of a string without using len functions\n",
        "str = input(\"Enter a string: \")\n",
        "counter = 0\n",
        "for s in str:\n",
        "      counter = counter+1\n",
        "print(\"Length of the input string is:\", counter)"
      ],
      "execution_count": null,
      "outputs": [
        {
          "output_type": "stream",
          "text": [
            "Enter a string: qwqwq\n",
            "Length of the input string is: 5\n"
          ],
          "name": "stdout"
        }
      ]
    },
    {
      "cell_type": "code",
      "metadata": {
        "id": "2S5I9G3bZcra",
        "colab_type": "code",
        "colab": {
          "base_uri": "https://localhost:8080/",
          "height": 34
        },
        "outputId": "d285f6d0-96fd-4273-d35e-4ae67a7e0aa7"
      },
      "source": [
        "# 8 Find the no of occurrences of a word in a string\n",
        "def word_count(str):\n",
        "    counts = dict()\n",
        "    words = str.split()\n",
        "\n",
        "    for word in words:\n",
        "        if word in counts:\n",
        "            counts[word] += 1\n",
        "        else:\n",
        "            counts[word] = 1\n",
        "\n",
        "    return counts\n",
        "\n",
        "print( word_count('I am a human not a robot'))\n"
      ],
      "execution_count": null,
      "outputs": [
        {
          "output_type": "stream",
          "text": [
            "{'I': 1, 'am': 1, 'a': 2, 'human': 1, 'not': 1, 'robot': 1}\n"
          ],
          "name": "stdout"
        }
      ]
    },
    {
      "cell_type": "code",
      "metadata": {
        "id": "99iH41PUZo2_",
        "colab_type": "code",
        "colab": {}
      },
      "source": [
        ""
      ],
      "execution_count": null,
      "outputs": []
    }
  ]
}